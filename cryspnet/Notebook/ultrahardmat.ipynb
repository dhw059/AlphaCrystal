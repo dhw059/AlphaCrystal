{
 "cells": [
  {
   "cell_type": "code",
   "execution_count": 1,
   "metadata": {},
   "outputs": [],
   "source": [
    "# for loading the pre-trained models\n",
    "from cryspnet.models import *\n",
    "# for feature generation and plotting\n",
    "from cryspnet.utils import *\n",
    "# for accessing some pre-defined constant\n",
    "from cryspnet.config import *"
   ]
  },
  {
   "cell_type": "code",
   "execution_count": 2,
   "metadata": {},
   "outputs": [],
   "source": [
    "import pandas as pd\n",
    "import numpy as np"
   ]
  },
  {
   "cell_type": "markdown",
   "metadata": {},
   "source": [
    "# Load in the Pre-Trained Models \n",
    "\n",
    "These three API helps you to retrieved them\n",
    "```Python\n",
    "    load_Bravais_models(n_ensembler, which)\n",
    "    load_Lattice_models()\n",
    "    load_SpaceGroup_models()\n",
    "```\n",
    "\n",
    "**Note**: If the file cannot be found error showed, make sure your follow the instruction to download and extract those models to the correct place."
   ]
  },
  {
   "cell_type": "code",
   "execution_count": 3,
   "metadata": {},
   "outputs": [],
   "source": [
    "BE = load_Bravais_models(n_ensembler=5, which=\"whole\")"
   ]
  },
  {
   "cell_type": "code",
   "execution_count": 4,
   "metadata": {},
   "outputs": [],
   "source": [
    "LB = load_Lattice_models()"
   ]
  },
  {
   "cell_type": "code",
   "execution_count": 5,
   "metadata": {},
   "outputs": [],
   "source": [
    "SGB = load_SpaceGroup_models()"
   ]
  },
  {
   "cell_type": "markdown",
   "metadata": {},
   "source": [
    "# Download the Superhard Dataset\n",
    "\n",
    "Matminer provide an easy to access API for fast dataset retrieval. Check out [this page](https://hackingmaterials.lbl.gov/matminer/dataset_summary.html) for datasets that are all available"
   ]
  },
  {
   "cell_type": "code",
   "execution_count": 6,
   "metadata": {},
   "outputs": [],
   "source": [
    "from matminer.datasets import load_dataset"
   ]
  },
  {
   "cell_type": "code",
   "execution_count": 7,
   "metadata": {},
   "outputs": [],
   "source": [
    "shard = load_dataset(\"brgoch_superhard_training\")"
   ]
  },
  {
   "cell_type": "code",
   "execution_count": 8,
   "metadata": {},
   "outputs": [
    {
     "data": {
      "text/html": [
       "<div>\n",
       "<style scoped>\n",
       "    .dataframe tbody tr th:only-of-type {\n",
       "        vertical-align: middle;\n",
       "    }\n",
       "\n",
       "    .dataframe tbody tr th {\n",
       "        vertical-align: top;\n",
       "    }\n",
       "\n",
       "    .dataframe thead th {\n",
       "        text-align: right;\n",
       "    }\n",
       "</style>\n",
       "<table border=\"1\" class=\"dataframe\">\n",
       "  <thead>\n",
       "    <tr style=\"text-align: right;\">\n",
       "      <th></th>\n",
       "      <th>formula</th>\n",
       "      <th>bulk_modulus</th>\n",
       "      <th>shear_modulus</th>\n",
       "      <th>composition</th>\n",
       "      <th>material_id</th>\n",
       "      <th>structure</th>\n",
       "      <th>brgoch_feats</th>\n",
       "      <th>suspect_value</th>\n",
       "    </tr>\n",
       "  </thead>\n",
       "  <tbody>\n",
       "    <tr>\n",
       "      <th>0</th>\n",
       "      <td>AlPt3</td>\n",
       "      <td>225.230461</td>\n",
       "      <td>91.197748</td>\n",
       "      <td>(Al, Pt)</td>\n",
       "      <td>mp-188</td>\n",
       "      <td>[[0. 0. 0.] Al, [0.         1.96140395 1.96140395] Pt, [1.96140395 1.96140395 0.        ] Pt, [1.96140395 0.         1.96140395] Pt]</td>\n",
       "      <td>{'atomic_number_feat_1': 123.5, 'atomic_number_feat_2': 221, 'atomic_number_feat_3': 13, 'atomic_number_feat_4': 78, 'atomic_weight_feat_1': 306.1107695, 'atomic_weight_feat_2': 558.258461, 'atomic_weight_feat_3': 26.981539, 'atomic_weight_feat_4': 195.08, 'period_number_feat_1': 10.5, 'period_number_feat_2': 15, 'period_number_feat_3': 3, 'period_number_feat_4': 6, 'group_number_feat_1': 21.5, 'group_number_feat_2': 17, 'group_number_feat_3': 10, 'group_number_feat_4': 13, 'family_number_feat_1': 8.5, 'family_number_feat_2': 7, 'family_number_feat_3': 4, 'family_number_feat_4': 5, 'Mendel...</td>\n",
       "      <td>False</td>\n",
       "    </tr>\n",
       "    <tr>\n",
       "      <th>1</th>\n",
       "      <td>Mn2Nb</td>\n",
       "      <td>232.696340</td>\n",
       "      <td>74.590157</td>\n",
       "      <td>(Mn, Nb)</td>\n",
       "      <td>mp-12659</td>\n",
       "      <td>[[-2.23765223e-08  1.42974191e+00  5.92614104e+00] Mn, [3.57977169 0.71487093 1.97538035] Mn, [1.23819283 0.71487093 1.97538035] Mn, [1.17078941 3.45760869 5.92614104] Mn, [0. 0. 0.] Mn, [0.        0.        3.9507607] Mn, [2.40898226 2.74273771 1.97538035] Mn, [-1.17078945  3.45760869  5.92614104] Mn, [-2.07564892e-08  2.78165309e+00  3.46044846e+00] Nb, [2.40898226 1.39082653 7.41120915] Nb, [2.40898226 1.39082653 4.44107293] Nb, [-2.07564892e-08  2.78165309e+00  4.90312238e-01] Nb]</td>\n",
       "      <td>{'atomic_number_feat_1': 45.5, 'atomic_number_feat_2': 9, 'atomic_number_feat_3': 25, 'atomic_number_feat_4': 41, 'atomic_weight_feat_1': 101.39124, 'atomic_weight_feat_2': 16.96972, 'atomic_weight_feat_3': 54.93805, 'atomic_weight_feat_4': 92.90638, 'period_number_feat_1': 6.5, 'period_number_feat_2': 3, 'period_number_feat_3': 4, 'period_number_feat_4': 5, 'group_number_feat_1': 9.5, 'group_number_feat_2': 9, 'group_number_feat_3': 5, 'group_number_feat_4': 7, 'family_number_feat_1': 6.0, 'family_number_feat_2': 4, 'family_number_feat_3': 4, 'family_number_feat_4': 4, 'Mendeleev_number_f...</td>\n",
       "      <td>False</td>\n",
       "    </tr>\n",
       "    <tr>\n",
       "      <th>2</th>\n",
       "      <td>HfO2</td>\n",
       "      <td>204.573433</td>\n",
       "      <td>98.564374</td>\n",
       "      <td>(Hf, O)</td>\n",
       "      <td>mp-352</td>\n",
       "      <td>[[2.24450185 3.85793022 4.83390736] O, [2.77883096 1.26035638 2.32337921] O, [ 2.79593023  1.33721745 -0.3395849 ] O, [2.26160112 3.93479129 2.17094325] O, [0.33243749 1.71503186 1.79217508] O, [4.72509386 4.3126057  0.03918327] O, [4.70799459 3.48011581 2.70214738] O, [0.31533822 0.88254197 4.45513919] O, [1.37618055 2.37584161 3.54068723] Hf, [3.64715226 4.97341544 3.61659934] Hf, [3.66425153 2.81930606 0.95363523] Hf, [1.39327982 0.22173223 0.87772312] Hf]</td>\n",
       "      <td>{'atomic_number_feat_1': 44.0, 'atomic_number_feat_2': 56, 'atomic_number_feat_3': 8, 'atomic_number_feat_4': 72, 'atomic_weight_feat_1': 105.2444, 'atomic_weight_feat_2': 146.4912, 'atomic_weight_feat_3': 15.9994, 'atomic_weight_feat_4': 178.49, 'period_number_feat_1': 5.0, 'period_number_feat_2': 2, 'period_number_feat_3': 2, 'period_number_feat_4': 6, 'group_number_feat_1': 18.0, 'group_number_feat_2': 28, 'group_number_feat_3': 4, 'group_number_feat_4': 16, 'family_number_feat_1': 9.0, 'family_number_feat_2': 10, 'family_number_feat_3': 4, 'family_number_feat_4': 7, 'Mendeleev_number_f...</td>\n",
       "      <td>False</td>\n",
       "    </tr>\n",
       "    <tr>\n",
       "      <th>3</th>\n",
       "      <td>Cu3Pt</td>\n",
       "      <td>159.312640</td>\n",
       "      <td>51.778816</td>\n",
       "      <td>(Cu, Pt)</td>\n",
       "      <td>mp-12086</td>\n",
       "      <td>[[0.         1.86144248 1.86144248] Cu, [1.86144248 1.86144248 0.        ] Cu, [1.86144248 0.         1.86144248] Cu, [0. 0. 0.] Pt]</td>\n",
       "      <td>{'atomic_number_feat_1': 82.5, 'atomic_number_feat_2': 9, 'atomic_number_feat_3': 29, 'atomic_number_feat_4': 78, 'atomic_weight_feat_1': 192.859, 'atomic_weight_feat_2': 4.44200000000001, 'atomic_weight_feat_3': 63.546, 'atomic_weight_feat_4': 195.08, 'period_number_feat_1': 9.0, 'period_number_feat_2': 6, 'period_number_feat_3': 4, 'period_number_feat_4': 6, 'group_number_feat_1': 21.5, 'group_number_feat_2': 23, 'group_number_feat_3': 10, 'group_number_feat_4': 11, 'family_number_feat_1': 8.0, 'family_number_feat_2': 8, 'family_number_feat_3': 4, 'family_number_feat_4': 4, 'Mendeleev_nu...</td>\n",
       "      <td>False</td>\n",
       "    </tr>\n",
       "    <tr>\n",
       "      <th>4</th>\n",
       "      <td>Mg3Pt</td>\n",
       "      <td>69.637565</td>\n",
       "      <td>27.588765</td>\n",
       "      <td>(Mg, Pt)</td>\n",
       "      <td>mp-18707</td>\n",
       "      <td>[[0.         0.         2.73626461] Mg, [0.         0.         6.95125305] Mg, [-3.97440991e-08  4.58925330e+00  1.79637294e+00] Mg, [3.97440996 2.29462661 6.01136137] Mg, [-3.97440991e-08  4.58925330e+00  6.01136137e+00] Mg, [3.97440996 2.29462661 1.79637294] Mg, [1.12369616 1.94629885 0.72058152] Mg, [-1.12369616  1.94629885  4.93556996] Mg, [2.24739233 0.         4.93556996] Mg, [5.70142751 0.         0.72058152] Mg, [-2.85071376  4.93758106  0.72058152] Mg, [2.85071376 4.93758106 4.93556996] Mg, [1.48939724 2.57971169 3.61780896] Mg, [-1.48939724  2.57971169  7.83279739] Mg, [2.9787944...</td>\n",
       "      <td>{'atomic_number_feat_1': 57.0, 'atomic_number_feat_2': 42, 'atomic_number_feat_3': 12, 'atomic_number_feat_4': 78, 'atomic_weight_feat_1': 133.9975, 'atomic_weight_feat_2': 122.165, 'atomic_weight_feat_3': 24.305, 'atomic_weight_feat_4': 195.08, 'period_number_feat_1': 7.5, 'period_number_feat_2': 3, 'period_number_feat_3': 3, 'period_number_feat_4': 6, 'group_number_feat_1': 8.0, 'group_number_feat_2': 4, 'group_number_feat_3': 2, 'group_number_feat_4': 10, 'family_number_feat_1': 5.0, 'family_number_feat_2': 2, 'family_number_feat_3': 2, 'family_number_feat_4': 4, 'Mendeleev_number_feat_...</td>\n",
       "      <td>False</td>\n",
       "    </tr>\n",
       "  </tbody>\n",
       "</table>\n",
       "</div>"
      ],
      "text/plain": [
       "  formula  bulk_modulus  shear_modulus composition material_id  \\\n",
       "0   AlPt3    225.230461      91.197748    (Al, Pt)      mp-188   \n",
       "1   Mn2Nb    232.696340      74.590157    (Mn, Nb)    mp-12659   \n",
       "2    HfO2    204.573433      98.564374     (Hf, O)      mp-352   \n",
       "3   Cu3Pt    159.312640      51.778816    (Cu, Pt)    mp-12086   \n",
       "4   Mg3Pt     69.637565      27.588765    (Mg, Pt)    mp-18707   \n",
       "\n",
       "                                                                                                                                                                                                                                                                                                                                                                                                                                                                                                                                                                                                                 structure  \\\n",
       "0                                                                                                                                                                                                                                                                                                                                                                                                                                                                                     [[0. 0. 0.] Al, [0.         1.96140395 1.96140395] Pt, [1.96140395 1.96140395 0.        ] Pt, [1.96140395 0.         1.96140395] Pt]   \n",
       "1                                                                                                                [[-2.23765223e-08  1.42974191e+00  5.92614104e+00] Mn, [3.57977169 0.71487093 1.97538035] Mn, [1.23819283 0.71487093 1.97538035] Mn, [1.17078941 3.45760869 5.92614104] Mn, [0. 0. 0.] Mn, [0.        0.        3.9507607] Mn, [2.40898226 2.74273771 1.97538035] Mn, [-1.17078945  3.45760869  5.92614104] Mn, [-2.07564892e-08  2.78165309e+00  3.46044846e+00] Nb, [2.40898226 1.39082653 7.41120915] Nb, [2.40898226 1.39082653 4.44107293] Nb, [-2.07564892e-08  2.78165309e+00  4.90312238e-01] Nb]   \n",
       "2                                                                                                                                          [[2.24450185 3.85793022 4.83390736] O, [2.77883096 1.26035638 2.32337921] O, [ 2.79593023  1.33721745 -0.3395849 ] O, [2.26160112 3.93479129 2.17094325] O, [0.33243749 1.71503186 1.79217508] O, [4.72509386 4.3126057  0.03918327] O, [4.70799459 3.48011581 2.70214738] O, [0.31533822 0.88254197 4.45513919] O, [1.37618055 2.37584161 3.54068723] Hf, [3.64715226 4.97341544 3.61659934] Hf, [3.66425153 2.81930606 0.95363523] Hf, [1.39327982 0.22173223 0.87772312] Hf]   \n",
       "3                                                                                                                                                                                                                                                                                                                                                                                                                                                                                     [[0.         1.86144248 1.86144248] Cu, [1.86144248 1.86144248 0.        ] Cu, [1.86144248 0.         1.86144248] Cu, [0. 0. 0.] Pt]   \n",
       "4  [[0.         0.         2.73626461] Mg, [0.         0.         6.95125305] Mg, [-3.97440991e-08  4.58925330e+00  1.79637294e+00] Mg, [3.97440996 2.29462661 6.01136137] Mg, [-3.97440991e-08  4.58925330e+00  6.01136137e+00] Mg, [3.97440996 2.29462661 1.79637294] Mg, [1.12369616 1.94629885 0.72058152] Mg, [-1.12369616  1.94629885  4.93556996] Mg, [2.24739233 0.         4.93556996] Mg, [5.70142751 0.         0.72058152] Mg, [-2.85071376  4.93758106  0.72058152] Mg, [2.85071376 4.93758106 4.93556996] Mg, [1.48939724 2.57971169 3.61780896] Mg, [-1.48939724  2.57971169  7.83279739] Mg, [2.9787944...   \n",
       "\n",
       "                                                                                                                                                                                                                                                                                                                                                                                                                                                                                                                                                                                                              brgoch_feats  \\\n",
       "0  {'atomic_number_feat_1': 123.5, 'atomic_number_feat_2': 221, 'atomic_number_feat_3': 13, 'atomic_number_feat_4': 78, 'atomic_weight_feat_1': 306.1107695, 'atomic_weight_feat_2': 558.258461, 'atomic_weight_feat_3': 26.981539, 'atomic_weight_feat_4': 195.08, 'period_number_feat_1': 10.5, 'period_number_feat_2': 15, 'period_number_feat_3': 3, 'period_number_feat_4': 6, 'group_number_feat_1': 21.5, 'group_number_feat_2': 17, 'group_number_feat_3': 10, 'group_number_feat_4': 13, 'family_number_feat_1': 8.5, 'family_number_feat_2': 7, 'family_number_feat_3': 4, 'family_number_feat_4': 5, 'Mendel...   \n",
       "1  {'atomic_number_feat_1': 45.5, 'atomic_number_feat_2': 9, 'atomic_number_feat_3': 25, 'atomic_number_feat_4': 41, 'atomic_weight_feat_1': 101.39124, 'atomic_weight_feat_2': 16.96972, 'atomic_weight_feat_3': 54.93805, 'atomic_weight_feat_4': 92.90638, 'period_number_feat_1': 6.5, 'period_number_feat_2': 3, 'period_number_feat_3': 4, 'period_number_feat_4': 5, 'group_number_feat_1': 9.5, 'group_number_feat_2': 9, 'group_number_feat_3': 5, 'group_number_feat_4': 7, 'family_number_feat_1': 6.0, 'family_number_feat_2': 4, 'family_number_feat_3': 4, 'family_number_feat_4': 4, 'Mendeleev_number_f...   \n",
       "2  {'atomic_number_feat_1': 44.0, 'atomic_number_feat_2': 56, 'atomic_number_feat_3': 8, 'atomic_number_feat_4': 72, 'atomic_weight_feat_1': 105.2444, 'atomic_weight_feat_2': 146.4912, 'atomic_weight_feat_3': 15.9994, 'atomic_weight_feat_4': 178.49, 'period_number_feat_1': 5.0, 'period_number_feat_2': 2, 'period_number_feat_3': 2, 'period_number_feat_4': 6, 'group_number_feat_1': 18.0, 'group_number_feat_2': 28, 'group_number_feat_3': 4, 'group_number_feat_4': 16, 'family_number_feat_1': 9.0, 'family_number_feat_2': 10, 'family_number_feat_3': 4, 'family_number_feat_4': 7, 'Mendeleev_number_f...   \n",
       "3  {'atomic_number_feat_1': 82.5, 'atomic_number_feat_2': 9, 'atomic_number_feat_3': 29, 'atomic_number_feat_4': 78, 'atomic_weight_feat_1': 192.859, 'atomic_weight_feat_2': 4.44200000000001, 'atomic_weight_feat_3': 63.546, 'atomic_weight_feat_4': 195.08, 'period_number_feat_1': 9.0, 'period_number_feat_2': 6, 'period_number_feat_3': 4, 'period_number_feat_4': 6, 'group_number_feat_1': 21.5, 'group_number_feat_2': 23, 'group_number_feat_3': 10, 'group_number_feat_4': 11, 'family_number_feat_1': 8.0, 'family_number_feat_2': 8, 'family_number_feat_3': 4, 'family_number_feat_4': 4, 'Mendeleev_nu...   \n",
       "4  {'atomic_number_feat_1': 57.0, 'atomic_number_feat_2': 42, 'atomic_number_feat_3': 12, 'atomic_number_feat_4': 78, 'atomic_weight_feat_1': 133.9975, 'atomic_weight_feat_2': 122.165, 'atomic_weight_feat_3': 24.305, 'atomic_weight_feat_4': 195.08, 'period_number_feat_1': 7.5, 'period_number_feat_2': 3, 'period_number_feat_3': 3, 'period_number_feat_4': 6, 'group_number_feat_1': 8.0, 'group_number_feat_2': 4, 'group_number_feat_3': 2, 'group_number_feat_4': 10, 'family_number_feat_1': 5.0, 'family_number_feat_2': 2, 'family_number_feat_3': 2, 'family_number_feat_4': 4, 'Mendeleev_number_feat_...   \n",
       "\n",
       "   suspect_value  \n",
       "0          False  \n",
       "1          False  \n",
       "2          False  \n",
       "3          False  \n",
       "4          False  "
      ]
     },
     "execution_count": 8,
     "metadata": {},
     "output_type": "execute_result"
    }
   ],
   "source": [
    "shard.head()"
   ]
  },
  {
   "cell_type": "markdown",
   "metadata": {},
   "source": [
    "# Generate Predictors"
   ]
  },
  {
   "cell_type": "code",
   "execution_count": 9,
   "metadata": {},
   "outputs": [],
   "source": [
    "FG = FeatureGenerator()"
   ]
  },
  {
   "cell_type": "code",
   "execution_count": 10,
   "metadata": {},
   "outputs": [
    {
     "data": {
      "application/vnd.jupyter.widget-view+json": {
       "model_id": "1a3dee015bf2427aa123e96545dd3f42",
       "version_major": 2,
       "version_minor": 0
      },
      "text/plain": [
       "StrToComposition:   0%|          | 0/2574 [00:00<?, ?it/s]"
      ]
     },
     "metadata": {},
     "output_type": "display_data"
    },
    {
     "data": {
      "application/vnd.jupyter.widget-view+json": {
       "model_id": "a407913b5f8e4e00b659ed1e58b3594e",
       "version_major": 2,
       "version_minor": 0
      },
      "text/plain": [
       "MultipleFeaturizer:   0%|          | 0/2574 [00:00<?, ?it/s]"
      ]
     },
     "metadata": {},
     "output_type": "display_data"
    }
   ],
   "source": [
    "predictors = FG.generate(shard[['formula']])"
   ]
  },
  {
   "cell_type": "markdown",
   "metadata": {},
   "source": [
    "# Prediction-High Level API\n",
    "\n",
    "Utilize the library is simple, every model has a **.predicts()** method that take a dataframe with ***predictors*** as input and output ***Bravais Lattices***, ***space group numbers*** or ***Lattice parameters***. "
   ]
  },
  {
   "cell_type": "markdown",
   "metadata": {},
   "source": [
    "## Bravais Lattice\n",
    "\n",
    "Prediction from ***Bravais Lattice Models*** has two parts in the output: First one is the ***top-n highest probability in the prediction***. Second one is ***the classes that associated with those in the first one***. The top-n is controlled by the parameter **topn_bravais**. The first column of "
   ]
  },
  {
   "cell_type": "code",
   "execution_count": 11,
   "metadata": {
    "jupyter": {
     "outputs_hidden": true
    }
   },
   "outputs": [
    {
     "data": {
      "text/html": [],
      "text/plain": [
       "<IPython.core.display.HTML object>"
      ]
     },
     "metadata": {},
     "output_type": "display_data"
    },
    {
     "data": {
      "text/html": [],
      "text/plain": [
       "<IPython.core.display.HTML object>"
      ]
     },
     "metadata": {},
     "output_type": "display_data"
    },
    {
     "data": {
      "text/html": [],
      "text/plain": [
       "<IPython.core.display.HTML object>"
      ]
     },
     "metadata": {},
     "output_type": "display_data"
    },
    {
     "data": {
      "text/html": [],
      "text/plain": [
       "<IPython.core.display.HTML object>"
      ]
     },
     "metadata": {},
     "output_type": "display_data"
    },
    {
     "data": {
      "text/html": [],
      "text/plain": [
       "<IPython.core.display.HTML object>"
      ]
     },
     "metadata": {},
     "output_type": "display_data"
    },
    {
     "name": "stderr",
     "output_type": "stream",
     "text": [
      "/home/aurora/cryspnet/cryspnet/models.py:255: FutureWarning: Support for multi-dimensional indexing (e.g. `obj[:, None]`) is deprecated and will be removed in a future version.  Convert to a numpy array before indexing instead.\n",
      "  return preds[auxidxs, idxs], self.classes[idxs]\n"
     ]
    }
   ],
   "source": [
    "# first one is the probability of the top-N prediction\n",
    "# second one is the predicted top-N Bravais Lattice\n",
    "Bravais_probs, Bravais = BE.predicts(predictors, topn_bravais=2)"
   ]
  },
  {
   "cell_type": "markdown",
   "metadata": {},
   "source": [
    "### Example-Bravais Lattice Prediction"
   ]
  },
  {
   "cell_type": "markdown",
   "metadata": {},
   "source": [
    "The probability is order from left to right meaning the highest one are always on the left."
   ]
  },
  {
   "cell_type": "code",
   "execution_count": 12,
   "metadata": {},
   "outputs": [
    {
     "data": {
      "text/plain": [
       "array([[9.9996740e-01, 2.2746925e-05],\n",
       "       [4.1430849e-01, 2.8673396e-01]], dtype=float32)"
      ]
     },
     "execution_count": 12,
     "metadata": {},
     "output_type": "execute_result"
    }
   ],
   "source": [
    "Bravais_probs[:2]"
   ]
  },
  {
   "cell_type": "markdown",
   "metadata": {},
   "source": [
    "Here is the corresponding Bravais Lattice"
   ]
  },
  {
   "cell_type": "code",
   "execution_count": 13,
   "metadata": {},
   "outputs": [
    {
     "data": {
      "text/plain": [
       "array([['orthorhombic (P)', 'monoclinic (C)'],\n",
       "       ['rhombohedral (P)', 'hexagonal (P)']], dtype=object)"
      ]
     },
     "execution_count": 13,
     "metadata": {},
     "output_type": "execute_result"
    }
   ],
   "source": [
    "Bravais[:2]"
   ]
  },
  {
   "cell_type": "markdown",
   "metadata": {},
   "source": [
    "## Lattice Parameter and Space Group\n",
    "\n",
    "To use those two model, a column with the name **Bravais** must exists in the input predictors dataframe.\n",
    "<br/>This information could be obtained from previous predictions or experimental data."
   ]
  },
  {
   "cell_type": "code",
   "execution_count": 14,
   "metadata": {
    "jupyter": {
     "outputs_hidden": true
    }
   },
   "outputs": [
    {
     "data": {
      "text/html": [],
      "text/plain": [
       "<IPython.core.display.HTML object>"
      ]
     },
     "metadata": {},
     "output_type": "display_data"
    },
    {
     "data": {
      "text/html": [],
      "text/plain": [
       "<IPython.core.display.HTML object>"
      ]
     },
     "metadata": {},
     "output_type": "display_data"
    },
    {
     "data": {
      "text/html": [],
      "text/plain": [
       "<IPython.core.display.HTML object>"
      ]
     },
     "metadata": {},
     "output_type": "display_data"
    },
    {
     "data": {
      "text/html": [],
      "text/plain": [
       "<IPython.core.display.HTML object>"
      ]
     },
     "metadata": {},
     "output_type": "display_data"
    },
    {
     "data": {
      "text/html": [],
      "text/plain": [
       "<IPython.core.display.HTML object>"
      ]
     },
     "metadata": {},
     "output_type": "display_data"
    },
    {
     "data": {
      "text/html": [],
      "text/plain": [
       "<IPython.core.display.HTML object>"
      ]
     },
     "metadata": {},
     "output_type": "display_data"
    },
    {
     "data": {
      "text/html": [],
      "text/plain": [
       "<IPython.core.display.HTML object>"
      ]
     },
     "metadata": {},
     "output_type": "display_data"
    },
    {
     "data": {
      "text/html": [],
      "text/plain": [
       "<IPython.core.display.HTML object>"
      ]
     },
     "metadata": {},
     "output_type": "display_data"
    },
    {
     "data": {
      "text/html": [],
      "text/plain": [
       "<IPython.core.display.HTML object>"
      ]
     },
     "metadata": {},
     "output_type": "display_data"
    },
    {
     "data": {
      "text/html": [],
      "text/plain": [
       "<IPython.core.display.HTML object>"
      ]
     },
     "metadata": {},
     "output_type": "display_data"
    },
    {
     "data": {
      "text/html": [],
      "text/plain": [
       "<IPython.core.display.HTML object>"
      ]
     },
     "metadata": {},
     "output_type": "display_data"
    },
    {
     "data": {
      "text/html": [],
      "text/plain": [
       "<IPython.core.display.HTML object>"
      ]
     },
     "metadata": {},
     "output_type": "display_data"
    },
    {
     "data": {
      "text/html": [],
      "text/plain": [
       "<IPython.core.display.HTML object>"
      ]
     },
     "metadata": {},
     "output_type": "display_data"
    },
    {
     "data": {
      "text/html": [],
      "text/plain": [
       "<IPython.core.display.HTML object>"
      ]
     },
     "metadata": {},
     "output_type": "display_data"
    },
    {
     "name": "stderr",
     "output_type": "stream",
     "text": [
      "/home/aurora/cryspnet/cryspnet/models.py:200: RuntimeWarning: overflow encountered in exp\n",
      "  return np.exp(preds)\n",
      "/home/aurora/anaconda3/envs/cryspnetv2/lib/python3.8/site-packages/pandas/core/arraylike.py:274: RuntimeWarning: invalid value encountered in sin\n",
      "  result = getattr(ufunc, method)(*inputs, **kwargs)\n",
      "/home/aurora/anaconda3/envs/cryspnetv2/lib/python3.8/site-packages/pandas/core/arraylike.py:274: RuntimeWarning: invalid value encountered in cos\n",
      "  result = getattr(ufunc, method)(*inputs, **kwargs)\n"
     ]
    },
    {
     "data": {
      "text/html": [],
      "text/plain": [
       "<IPython.core.display.HTML object>"
      ]
     },
     "metadata": {},
     "output_type": "display_data"
    },
    {
     "data": {
      "text/html": [],
      "text/plain": [
       "<IPython.core.display.HTML object>"
      ]
     },
     "metadata": {},
     "output_type": "display_data"
    },
    {
     "data": {
      "text/html": [],
      "text/plain": [
       "<IPython.core.display.HTML object>"
      ]
     },
     "metadata": {},
     "output_type": "display_data"
    },
    {
     "data": {
      "text/html": [],
      "text/plain": [
       "<IPython.core.display.HTML object>"
      ]
     },
     "metadata": {},
     "output_type": "display_data"
    },
    {
     "data": {
      "text/html": [],
      "text/plain": [
       "<IPython.core.display.HTML object>"
      ]
     },
     "metadata": {},
     "output_type": "display_data"
    },
    {
     "data": {
      "text/html": [],
      "text/plain": [
       "<IPython.core.display.HTML object>"
      ]
     },
     "metadata": {},
     "output_type": "display_data"
    },
    {
     "data": {
      "text/html": [],
      "text/plain": [
       "<IPython.core.display.HTML object>"
      ]
     },
     "metadata": {},
     "output_type": "display_data"
    },
    {
     "data": {
      "text/html": [],
      "text/plain": [
       "<IPython.core.display.HTML object>"
      ]
     },
     "metadata": {},
     "output_type": "display_data"
    },
    {
     "data": {
      "text/html": [],
      "text/plain": [
       "<IPython.core.display.HTML object>"
      ]
     },
     "metadata": {},
     "output_type": "display_data"
    },
    {
     "data": {
      "text/html": [],
      "text/plain": [
       "<IPython.core.display.HTML object>"
      ]
     },
     "metadata": {},
     "output_type": "display_data"
    },
    {
     "data": {
      "text/html": [],
      "text/plain": [
       "<IPython.core.display.HTML object>"
      ]
     },
     "metadata": {},
     "output_type": "display_data"
    },
    {
     "data": {
      "text/html": [],
      "text/plain": [
       "<IPython.core.display.HTML object>"
      ]
     },
     "metadata": {},
     "output_type": "display_data"
    },
    {
     "data": {
      "text/html": [],
      "text/plain": [
       "<IPython.core.display.HTML object>"
      ]
     },
     "metadata": {},
     "output_type": "display_data"
    },
    {
     "data": {
      "text/html": [],
      "text/plain": [
       "<IPython.core.display.HTML object>"
      ]
     },
     "metadata": {},
     "output_type": "display_data"
    },
    {
     "data": {
      "text/html": [],
      "text/plain": [
       "<IPython.core.display.HTML object>"
      ]
     },
     "metadata": {},
     "output_type": "display_data"
    },
    {
     "data": {
      "text/html": [],
      "text/plain": [
       "<IPython.core.display.HTML object>"
      ]
     },
     "metadata": {},
     "output_type": "display_data"
    },
    {
     "data": {
      "text/html": [],
      "text/plain": [
       "<IPython.core.display.HTML object>"
      ]
     },
     "metadata": {},
     "output_type": "display_data"
    },
    {
     "data": {
      "text/html": [],
      "text/plain": [
       "<IPython.core.display.HTML object>"
      ]
     },
     "metadata": {},
     "output_type": "display_data"
    },
    {
     "data": {
      "text/html": [],
      "text/plain": [
       "<IPython.core.display.HTML object>"
      ]
     },
     "metadata": {},
     "output_type": "display_data"
    },
    {
     "data": {
      "text/html": [],
      "text/plain": [
       "<IPython.core.display.HTML object>"
      ]
     },
     "metadata": {},
     "output_type": "display_data"
    },
    {
     "data": {
      "text/html": [],
      "text/plain": [
       "<IPython.core.display.HTML object>"
      ]
     },
     "metadata": {},
     "output_type": "display_data"
    },
    {
     "data": {
      "text/html": [],
      "text/plain": [
       "<IPython.core.display.HTML object>"
      ]
     },
     "metadata": {},
     "output_type": "display_data"
    },
    {
     "data": {
      "text/html": [],
      "text/plain": [
       "<IPython.core.display.HTML object>"
      ]
     },
     "metadata": {},
     "output_type": "display_data"
    },
    {
     "data": {
      "text/html": [],
      "text/plain": [
       "<IPython.core.display.HTML object>"
      ]
     },
     "metadata": {},
     "output_type": "display_data"
    },
    {
     "data": {
      "text/html": [],
      "text/plain": [
       "<IPython.core.display.HTML object>"
      ]
     },
     "metadata": {},
     "output_type": "display_data"
    },
    {
     "data": {
      "text/html": [],
      "text/plain": [
       "<IPython.core.display.HTML object>"
      ]
     },
     "metadata": {},
     "output_type": "display_data"
    },
    {
     "data": {
      "text/html": [],
      "text/plain": [
       "<IPython.core.display.HTML object>"
      ]
     },
     "metadata": {},
     "output_type": "display_data"
    },
    {
     "data": {
      "text/html": [],
      "text/plain": [
       "<IPython.core.display.HTML object>"
      ]
     },
     "metadata": {},
     "output_type": "display_data"
    },
    {
     "data": {
      "text/html": [],
      "text/plain": [
       "<IPython.core.display.HTML object>"
      ]
     },
     "metadata": {},
     "output_type": "display_data"
    },
    {
     "data": {
      "text/html": [],
      "text/plain": [
       "<IPython.core.display.HTML object>"
      ]
     },
     "metadata": {},
     "output_type": "display_data"
    },
    {
     "data": {
      "text/html": [],
      "text/plain": [
       "<IPython.core.display.HTML object>"
      ]
     },
     "metadata": {},
     "output_type": "display_data"
    },
    {
     "data": {
      "text/html": [],
      "text/plain": [
       "<IPython.core.display.HTML object>"
      ]
     },
     "metadata": {},
     "output_type": "display_data"
    },
    {
     "data": {
      "text/html": [],
      "text/plain": [
       "<IPython.core.display.HTML object>"
      ]
     },
     "metadata": {},
     "output_type": "display_data"
    },
    {
     "data": {
      "text/html": [],
      "text/plain": [
       "<IPython.core.display.HTML object>"
      ]
     },
     "metadata": {},
     "output_type": "display_data"
    },
    {
     "data": {
      "text/html": [],
      "text/plain": [
       "<IPython.core.display.HTML object>"
      ]
     },
     "metadata": {},
     "output_type": "display_data"
    },
    {
     "data": {
      "text/html": [],
      "text/plain": [
       "<IPython.core.display.HTML object>"
      ]
     },
     "metadata": {},
     "output_type": "display_data"
    },
    {
     "data": {
      "text/html": [],
      "text/plain": [
       "<IPython.core.display.HTML object>"
      ]
     },
     "metadata": {},
     "output_type": "display_data"
    },
    {
     "data": {
      "text/html": [],
      "text/plain": [
       "<IPython.core.display.HTML object>"
      ]
     },
     "metadata": {},
     "output_type": "display_data"
    },
    {
     "data": {
      "text/html": [],
      "text/plain": [
       "<IPython.core.display.HTML object>"
      ]
     },
     "metadata": {},
     "output_type": "display_data"
    },
    {
     "data": {
      "text/html": [],
      "text/plain": [
       "<IPython.core.display.HTML object>"
      ]
     },
     "metadata": {},
     "output_type": "display_data"
    },
    {
     "data": {
      "text/html": [],
      "text/plain": [
       "<IPython.core.display.HTML object>"
      ]
     },
     "metadata": {},
     "output_type": "display_data"
    },
    {
     "data": {
      "text/html": [],
      "text/plain": [
       "<IPython.core.display.HTML object>"
      ]
     },
     "metadata": {},
     "output_type": "display_data"
    }
   ],
   "source": [
    "lattices = []\n",
    "spacegroups = []\n",
    "for i in range(0, 2):\n",
    "    predictors['Bravais'] = Bravais[:, i]\n",
    "    lattice = LB.predicts(predictors)\n",
    "    lattices.append(lattice)\n",
    "    \n",
    "    spacegroup = SGB.predicts(predictors)\n",
    "    spacegroups.append(spacegroup)"
   ]
  },
  {
   "cell_type": "markdown",
   "metadata": {},
   "source": [
    "### Example-Lattice Parameter Prediction \n",
    "***Lattice Parameter Model*** would output a ***dataframe*** contains columns: ***a***, ***b***, ***c***, ***α***, ***β***,and ***γ***"
   ]
  },
  {
   "cell_type": "code",
   "execution_count": 15,
   "metadata": {},
   "outputs": [
    {
     "data": {
      "text/html": [
       "<div>\n",
       "<style scoped>\n",
       "    .dataframe tbody tr th:only-of-type {\n",
       "        vertical-align: middle;\n",
       "    }\n",
       "\n",
       "    .dataframe tbody tr th {\n",
       "        vertical-align: top;\n",
       "    }\n",
       "\n",
       "    .dataframe thead th {\n",
       "        text-align: right;\n",
       "    }\n",
       "</style>\n",
       "<table border=\"1\" class=\"dataframe\">\n",
       "  <thead>\n",
       "    <tr style=\"text-align: right;\">\n",
       "      <th></th>\n",
       "      <th>a</th>\n",
       "      <th>b</th>\n",
       "      <th>c</th>\n",
       "      <th>alpha</th>\n",
       "      <th>beta</th>\n",
       "      <th>gamma</th>\n",
       "      <th>v</th>\n",
       "    </tr>\n",
       "  </thead>\n",
       "  <tbody>\n",
       "    <tr>\n",
       "      <th>0</th>\n",
       "      <td>7.418073</td>\n",
       "      <td>9.941552</td>\n",
       "      <td>6.821741</td>\n",
       "      <td>90.0</td>\n",
       "      <td>90.0</td>\n",
       "      <td>90.0</td>\n",
       "      <td>503.084013</td>\n",
       "    </tr>\n",
       "    <tr>\n",
       "      <th>1</th>\n",
       "      <td>0.000000</td>\n",
       "      <td>0.000000</td>\n",
       "      <td>0.000000</td>\n",
       "      <td>0.0</td>\n",
       "      <td>0.0</td>\n",
       "      <td>0.0</td>\n",
       "      <td>0.000000</td>\n",
       "    </tr>\n",
       "    <tr>\n",
       "      <th>2</th>\n",
       "      <td>7.814845</td>\n",
       "      <td>7.814845</td>\n",
       "      <td>7.814845</td>\n",
       "      <td>90.0</td>\n",
       "      <td>90.0</td>\n",
       "      <td>90.0</td>\n",
       "      <td>477.266677</td>\n",
       "    </tr>\n",
       "    <tr>\n",
       "      <th>3</th>\n",
       "      <td>8.261739</td>\n",
       "      <td>8.261739</td>\n",
       "      <td>8.261739</td>\n",
       "      <td>90.0</td>\n",
       "      <td>90.0</td>\n",
       "      <td>90.0</td>\n",
       "      <td>563.915990</td>\n",
       "    </tr>\n",
       "    <tr>\n",
       "      <th>4</th>\n",
       "      <td>7.447362</td>\n",
       "      <td>9.912762</td>\n",
       "      <td>6.669214</td>\n",
       "      <td>90.0</td>\n",
       "      <td>90.0</td>\n",
       "      <td>90.0</td>\n",
       "      <td>492.347582</td>\n",
       "    </tr>\n",
       "  </tbody>\n",
       "</table>\n",
       "</div>"
      ],
      "text/plain": [
       "          a         b         c  alpha  beta  gamma           v\n",
       "0  7.418073  9.941552  6.821741   90.0  90.0   90.0  503.084013\n",
       "1  0.000000  0.000000  0.000000    0.0   0.0    0.0    0.000000\n",
       "2  7.814845  7.814845  7.814845   90.0  90.0   90.0  477.266677\n",
       "3  8.261739  8.261739  8.261739   90.0  90.0   90.0  563.915990\n",
       "4  7.447362  9.912762  6.669214   90.0  90.0   90.0  492.347582"
      ]
     },
     "execution_count": 15,
     "metadata": {},
     "output_type": "execute_result"
    }
   ],
   "source": [
    "lattices[0].head()"
   ]
  },
  {
   "cell_type": "markdown",
   "metadata": {},
   "source": [
    "### Example-Space Group Prediction\n",
    "***Space Group Model*** would output ***top-n probability*** and corresponding ***space group number***\n",
    "in similar manner as Bravais Lattice Model"
   ]
  },
  {
   "cell_type": "code",
   "execution_count": 16,
   "metadata": {},
   "outputs": [],
   "source": [
    "# top-N probability, top-N space group number\n",
    "spacegroup_probs, spacegroup = spacegroups[0]"
   ]
  },
  {
   "cell_type": "code",
   "execution_count": 17,
   "metadata": {},
   "outputs": [
    {
     "data": {
      "text/plain": [
       "array([[9.55480874e-01, 4.43613380e-02, 1.57732997e-04],\n",
       "       [1.00000000e+00, 0.00000000e+00, 0.00000000e+00],\n",
       "       [5.59777439e-01, 3.83206278e-01, 5.70162982e-02],\n",
       "       [9.72254515e-01, 2.10020747e-02, 6.15153601e-03],\n",
       "       [1.00000000e+00, 0.00000000e+00, 0.00000000e+00]])"
      ]
     },
     "execution_count": 17,
     "metadata": {},
     "output_type": "execute_result"
    }
   ],
   "source": [
    "spacegroup_probs[:5]"
   ]
  },
  {
   "cell_type": "code",
   "execution_count": 18,
   "metadata": {},
   "outputs": [
    {
     "data": {
      "text/plain": [
       "array([[ 74.,  62.,  61.],\n",
       "       [148., 167., 166.],\n",
       "       [225., 227., 216.],\n",
       "       [220., 204., 229.],\n",
       "       [ 62.,  74.,  61.]])"
      ]
     },
     "execution_count": 18,
     "metadata": {},
     "output_type": "execute_result"
    }
   ],
   "source": [
    "spacegroup[:5]"
   ]
  },
  {
   "cell_type": "markdown",
   "metadata": {},
   "source": [
    "## Low Level API"
   ]
  },
  {
   "cell_type": "markdown",
   "metadata": {},
   "source": [
    "### Load dataset to the model\n",
    "\n",
    "All models contain **.load()** method to attach the dataset to the model. The model then would perform pre-processing on the input dataset. "
   ]
  },
  {
   "cell_type": "code",
   "execution_count": 19,
   "metadata": {},
   "outputs": [],
   "source": [
    "BE.load(predictors)\n",
    "LB.load(predictors) # note we have \"Bravais\" in this dataframe already\n",
    "SGB.load(predictors)"
   ]
  },
  {
   "cell_type": "markdown",
   "metadata": {},
   "source": [
    "### Get the Raw Prediction\n",
    "Sometimes, processing raw prediction is easy for further analysis. Make sure you load in dataset to the models before running lines in below.\n",
    "\n",
    "The raw prediction is stored in the form of **torch tensor**. Prediction is stored in different format that is specified to each models. "
   ]
  },
  {
   "cell_type": "markdown",
   "metadata": {},
   "source": [
    "#### Bravais Lattice Model"
   ]
  },
  {
   "cell_type": "markdown",
   "metadata": {},
   "source": [
    "For Bravais Lattice Model, raw prediction contains output from **N** (defined by user) models. i.e. the shape of the tensor is (N, dataset_size, 14)"
   ]
  },
  {
   "cell_type": "code",
   "execution_count": 20,
   "metadata": {
    "jupyter": {
     "outputs_hidden": true
    }
   },
   "outputs": [
    {
     "data": {
      "text/html": [],
      "text/plain": [
       "<IPython.core.display.HTML object>"
      ]
     },
     "metadata": {},
     "output_type": "display_data"
    },
    {
     "data": {
      "text/html": [],
      "text/plain": [
       "<IPython.core.display.HTML object>"
      ]
     },
     "metadata": {},
     "output_type": "display_data"
    },
    {
     "data": {
      "text/html": [],
      "text/plain": [
       "<IPython.core.display.HTML object>"
      ]
     },
     "metadata": {},
     "output_type": "display_data"
    },
    {
     "data": {
      "text/html": [],
      "text/plain": [
       "<IPython.core.display.HTML object>"
      ]
     },
     "metadata": {},
     "output_type": "display_data"
    },
    {
     "data": {
      "text/html": [],
      "text/plain": [
       "<IPython.core.display.HTML object>"
      ]
     },
     "metadata": {},
     "output_type": "display_data"
    }
   ],
   "source": [
    "preds = BE.get_preds()"
   ]
  },
  {
   "cell_type": "code",
   "execution_count": 21,
   "metadata": {},
   "outputs": [
    {
     "data": {
      "text/plain": [
       "torch.Size([5, 2574, 14])"
      ]
     },
     "execution_count": 21,
     "metadata": {},
     "output_type": "execute_result"
    }
   ],
   "source": [
    "preds.shape"
   ]
  },
  {
   "cell_type": "markdown",
   "metadata": {},
   "source": [
    "The Bravais Lattice map to the predicted probability is stored in **.classes**"
   ]
  },
  {
   "cell_type": "code",
   "execution_count": 22,
   "metadata": {},
   "outputs": [
    {
     "data": {
      "text/plain": [
       "Index(['cubic (I)', 'cubic (F)', 'cubic (P)', 'hexagonal (P)',\n",
       "       'rhombohedral (P)', 'tetragonal (I)', 'tetragonal (P)',\n",
       "       'orthorhombic (I)', 'orthorhombic (F)', 'orthorhombic (C)',\n",
       "       'orthorhombic (P)', 'monoclinic (C)', 'monoclinic (P)',\n",
       "       'triclinic (P)'],\n",
       "      dtype='object')"
      ]
     },
     "execution_count": 22,
     "metadata": {},
     "output_type": "execute_result"
    }
   ],
   "source": [
    "BE.classes"
   ]
  },
  {
   "cell_type": "markdown",
   "metadata": {},
   "source": [
    "#### Space Group Model and Lattice Parameter Model"
   ]
  },
  {
   "cell_type": "markdown",
   "metadata": {},
   "source": [
    "For Space Group Model and Lattice Parameter Model, the raw prediction is a dictionary containing prediction from different sub-models. The key of the dictionary shows which sub-models the prediction comes from."
   ]
  },
  {
   "cell_type": "code",
   "execution_count": 23,
   "metadata": {
    "jupyter": {
     "outputs_hidden": true
    }
   },
   "outputs": [
    {
     "data": {
      "text/html": [],
      "text/plain": [
       "<IPython.core.display.HTML object>"
      ]
     },
     "metadata": {},
     "output_type": "display_data"
    },
    {
     "data": {
      "text/html": [],
      "text/plain": [
       "<IPython.core.display.HTML object>"
      ]
     },
     "metadata": {},
     "output_type": "display_data"
    },
    {
     "data": {
      "text/html": [],
      "text/plain": [
       "<IPython.core.display.HTML object>"
      ]
     },
     "metadata": {},
     "output_type": "display_data"
    },
    {
     "data": {
      "text/html": [],
      "text/plain": [
       "<IPython.core.display.HTML object>"
      ]
     },
     "metadata": {},
     "output_type": "display_data"
    },
    {
     "data": {
      "text/html": [],
      "text/plain": [
       "<IPython.core.display.HTML object>"
      ]
     },
     "metadata": {},
     "output_type": "display_data"
    },
    {
     "data": {
      "text/html": [],
      "text/plain": [
       "<IPython.core.display.HTML object>"
      ]
     },
     "metadata": {},
     "output_type": "display_data"
    },
    {
     "data": {
      "text/html": [],
      "text/plain": [
       "<IPython.core.display.HTML object>"
      ]
     },
     "metadata": {},
     "output_type": "display_data"
    },
    {
     "data": {
      "text/html": [],
      "text/plain": [
       "<IPython.core.display.HTML object>"
      ]
     },
     "metadata": {},
     "output_type": "display_data"
    },
    {
     "data": {
      "text/html": [],
      "text/plain": [
       "<IPython.core.display.HTML object>"
      ]
     },
     "metadata": {},
     "output_type": "display_data"
    },
    {
     "data": {
      "text/html": [],
      "text/plain": [
       "<IPython.core.display.HTML object>"
      ]
     },
     "metadata": {},
     "output_type": "display_data"
    },
    {
     "data": {
      "text/html": [],
      "text/plain": [
       "<IPython.core.display.HTML object>"
      ]
     },
     "metadata": {},
     "output_type": "display_data"
    },
    {
     "data": {
      "text/html": [],
      "text/plain": [
       "<IPython.core.display.HTML object>"
      ]
     },
     "metadata": {},
     "output_type": "display_data"
    },
    {
     "data": {
      "text/html": [],
      "text/plain": [
       "<IPython.core.display.HTML object>"
      ]
     },
     "metadata": {},
     "output_type": "display_data"
    },
    {
     "data": {
      "text/html": [],
      "text/plain": [
       "<IPython.core.display.HTML object>"
      ]
     },
     "metadata": {},
     "output_type": "display_data"
    }
   ],
   "source": [
    "preds = SGB.get_preds()"
   ]
  },
  {
   "cell_type": "code",
   "execution_count": 24,
   "metadata": {},
   "outputs": [
    {
     "data": {
      "text/plain": [
       "dict_keys(['cubic (I)', 'cubic (F)', 'cubic (P)', 'hexagonal (P)', 'rhombohedral (P)', 'tetragonal (I)', 'tetragonal (P)', 'orthorhombic (I)', 'orthorhombic (F)', 'orthorhombic (C)', 'orthorhombic (P)', 'monoclinic (C)', 'monoclinic (P)', 'triclinic (P)'])"
      ]
     },
     "execution_count": 24,
     "metadata": {},
     "output_type": "execute_result"
    }
   ],
   "source": [
    "preds.keys()"
   ]
  },
  {
   "cell_type": "code",
   "execution_count": 25,
   "metadata": {},
   "outputs": [
    {
     "data": {
      "text/plain": [
       "tensor([[0.0000e+00, 1.0000e+00, 0.0000e+00],\n",
       "        [0.0000e+00, 1.0000e+00, 0.0000e+00],\n",
       "        [5.0087e-05, 2.6173e-01, 7.3822e-01]])"
      ]
     },
     "execution_count": 25,
     "metadata": {},
     "output_type": "execute_result"
    }
   ],
   "source": [
    "preds['cubic (F)'][:3,]"
   ]
  },
  {
   "cell_type": "markdown",
   "metadata": {},
   "source": [
    "The space group number for each sub model prediction is little more complicated. All submodels is stored in the **.Ps** field. For each sub-model access classes is similar to Bravais Lattice one. Here is an example of getting the classes for cubic (F) sub-model"
   ]
  },
  {
   "cell_type": "code",
   "execution_count": 27,
   "metadata": {},
   "outputs": [
    {
     "data": {
      "text/plain": [
       "array([216, 225, 227])"
      ]
     },
     "execution_count": 27,
     "metadata": {},
     "output_type": "execute_result"
    }
   ],
   "source": [
    "SGB.Ms['cubic (F)'].classes"
   ]
  },
  {
   "cell_type": "code",
   "execution_count": 28,
   "metadata": {
    "jupyter": {
     "outputs_hidden": true
    }
   },
   "outputs": [
    {
     "data": {
      "text/html": [],
      "text/plain": [
       "<IPython.core.display.HTML object>"
      ]
     },
     "metadata": {},
     "output_type": "display_data"
    },
    {
     "data": {
      "text/html": [],
      "text/plain": [
       "<IPython.core.display.HTML object>"
      ]
     },
     "metadata": {},
     "output_type": "display_data"
    },
    {
     "data": {
      "text/html": [],
      "text/plain": [
       "<IPython.core.display.HTML object>"
      ]
     },
     "metadata": {},
     "output_type": "display_data"
    },
    {
     "data": {
      "text/html": [],
      "text/plain": [
       "<IPython.core.display.HTML object>"
      ]
     },
     "metadata": {},
     "output_type": "display_data"
    },
    {
     "data": {
      "text/html": [],
      "text/plain": [
       "<IPython.core.display.HTML object>"
      ]
     },
     "metadata": {},
     "output_type": "display_data"
    },
    {
     "data": {
      "text/html": [],
      "text/plain": [
       "<IPython.core.display.HTML object>"
      ]
     },
     "metadata": {},
     "output_type": "display_data"
    },
    {
     "data": {
      "text/html": [],
      "text/plain": [
       "<IPython.core.display.HTML object>"
      ]
     },
     "metadata": {},
     "output_type": "display_data"
    },
    {
     "data": {
      "text/html": [],
      "text/plain": [
       "<IPython.core.display.HTML object>"
      ]
     },
     "metadata": {},
     "output_type": "display_data"
    },
    {
     "data": {
      "text/html": [],
      "text/plain": [
       "<IPython.core.display.HTML object>"
      ]
     },
     "metadata": {},
     "output_type": "display_data"
    },
    {
     "data": {
      "text/html": [],
      "text/plain": [
       "<IPython.core.display.HTML object>"
      ]
     },
     "metadata": {},
     "output_type": "display_data"
    },
    {
     "data": {
      "text/html": [],
      "text/plain": [
       "<IPython.core.display.HTML object>"
      ]
     },
     "metadata": {},
     "output_type": "display_data"
    },
    {
     "data": {
      "text/html": [],
      "text/plain": [
       "<IPython.core.display.HTML object>"
      ]
     },
     "metadata": {},
     "output_type": "display_data"
    },
    {
     "data": {
      "text/html": [],
      "text/plain": [
       "<IPython.core.display.HTML object>"
      ]
     },
     "metadata": {},
     "output_type": "display_data"
    },
    {
     "data": {
      "text/html": [],
      "text/plain": [
       "<IPython.core.display.HTML object>"
      ]
     },
     "metadata": {},
     "output_type": "display_data"
    }
   ],
   "source": [
    "preds = LB.get_preds()"
   ]
  },
  {
   "cell_type": "code",
   "execution_count": 29,
   "metadata": {},
   "outputs": [
    {
     "data": {
      "text/plain": [
       "dict_keys(['cubic (I)', 'cubic (F)', 'cubic (P)', 'hexagonal (P)', 'rhombohedral (P)', 'tetragonal (I)', 'tetragonal (P)', 'orthorhombic (I)', 'orthorhombic (F)', 'orthorhombic (C)', 'orthorhombic (P)', 'monoclinic (C)', 'monoclinic (P)', 'triclinic (P)'])"
      ]
     },
     "execution_count": 29,
     "metadata": {},
     "output_type": "execute_result"
    }
   ],
   "source": [
    "preds.keys()"
   ]
  },
  {
   "cell_type": "code",
   "execution_count": 30,
   "metadata": {},
   "outputs": [
    {
     "data": {
      "text/plain": [
       "tensor([[-9.8452e+07, -8.6062e+07, -8.4030e+07,  4.0698e+06,  1.3044e+07,\n",
       "          2.9655e+07],\n",
       "        [-5.2221e-01,  1.4229e-01, -5.3990e-01, -5.9890e-02, -1.5190e-01,\n",
       "          2.1077e-01],\n",
       "        [ 2.2412e+06, -2.8403e+07, -2.1658e+07,  1.8027e+07,  1.4471e+07,\n",
       "          2.2346e+07]])"
      ]
     },
     "execution_count": 30,
     "metadata": {},
     "output_type": "execute_result"
    }
   ],
   "source": [
    "preds['triclinic (P)'][:3]"
   ]
  },
  {
   "cell_type": "markdown",
   "metadata": {},
   "source": [
    "The **PRED_COLS** constant defined *config.py* tells you which lattice parameters the sub model is predicting.  "
   ]
  },
  {
   "cell_type": "code",
   "execution_count": 31,
   "metadata": {},
   "outputs": [
    {
     "data": {
      "text/plain": [
       "{'cubic (P)': ['a'],\n",
       " 'cubic (F)': ['a'],\n",
       " 'cubic (I)': ['a'],\n",
       " 'monoclinic (P)': ['a', 'b', 'c', 'beta'],\n",
       " 'monoclinic (C)': ['a', 'b', 'c', 'beta'],\n",
       " 'hexagonal (P)': ['a', 'c'],\n",
       " 'rhombohedral (P)': ['a', 'alpha'],\n",
       " 'tetragonal (P)': ['a', 'c'],\n",
       " 'tetragonal (I)': ['a', 'c'],\n",
       " 'orthorhombic (P)': ['a', 'b', 'c'],\n",
       " 'orthorhombic (C)': ['a', 'b', 'c'],\n",
       " 'orthorhombic (F)': ['a', 'b', 'c'],\n",
       " 'orthorhombic (I)': ['a', 'b', 'c'],\n",
       " 'triclinic (P)': ['a', 'b', 'c', 'alpha', 'beta', 'gamma']}"
      ]
     },
     "execution_count": 31,
     "metadata": {},
     "output_type": "execute_result"
    }
   ],
   "source": [
    "PRED_COLS"
   ]
  }
 ],
 "metadata": {
  "kernelspec": {
   "display_name": "Python 3",
   "language": "python",
   "name": "python3"
  },
  "language_info": {
   "codemirror_mode": {
    "name": "ipython",
    "version": 3
   },
   "file_extension": ".py",
   "mimetype": "text/x-python",
   "name": "python",
   "nbconvert_exporter": "python",
   "pygments_lexer": "ipython3",
   "version": "3.8.5"
  },
  "toc": {
   "base_numbering": 1,
   "nav_menu": {},
   "number_sections": true,
   "sideBar": true,
   "skip_h1_title": false,
   "title_cell": "Table of Contents",
   "title_sidebar": "Contents",
   "toc_cell": false,
   "toc_position": {},
   "toc_section_display": true,
   "toc_window_display": true
  },
  "varInspector": {
   "cols": {
    "lenName": 16,
    "lenType": 16,
    "lenVar": 40
   },
   "kernels_config": {
    "python": {
     "delete_cmd_postfix": "",
     "delete_cmd_prefix": "del ",
     "library": "var_list.py",
     "varRefreshCmd": "print(var_dic_list())"
    },
    "r": {
     "delete_cmd_postfix": ") ",
     "delete_cmd_prefix": "rm(",
     "library": "var_list.r",
     "varRefreshCmd": "cat(var_dic_list()) "
    }
   },
   "types_to_exclude": [
    "module",
    "function",
    "builtin_function_or_method",
    "instance",
    "_Feature"
   ],
   "window_display": false
  }
 },
 "nbformat": 4,
 "nbformat_minor": 4
}
